import pandas as pd

df = pd.read_csv("1634980-1635017_Oct-27-2021--16-16_combined.csv", encoding="utf-16-be", encoding_errors="ignore")
print(df)